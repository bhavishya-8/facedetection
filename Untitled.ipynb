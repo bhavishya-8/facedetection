{
 "cells": [
  {
   "cell_type": "code",
   "execution_count": 50,
   "id": "c18857df",
   "metadata": {},
   "outputs": [],
   "source": [
    "import cv2\n",
    "\n",
    "KNOWN_FACE_WIDTH = 15.0  \n",
    "FOCAL_LENGTH = 700.0     \n",
    "\n",
    "# Load the Haar cascade XML file for face detection\n",
    "face_cascade = cv2.CascadeClassifier(cv2.data.haarcascades + 'haarcascade_frontalface_default.xml')\n",
    "\n",
    "# Initialize video capture\n",
    "video_capture = cv2.VideoCapture(0)  # 0 for the default camera, you can change it if needed\n",
    "\n",
    "while True:\n",
    "    # Read the video frame\n",
    "    ret, frame = video_capture.read()\n",
    "    if not ret:\n",
    "        break\n",
    "\n",
    "    # Convert the frame to gray scale for face detection\n",
    "    gray = cv2.cvtColor(frame, cv2.COLOR_BGR2GRAY)\n",
    "\n",
    "    # Perform face detection\n",
    "    faces = face_cascade.detectMultiScale(gray, scaleFactor=1.1, minNeighbors=5, minSize=(30, 30))\n",
    "\n",
    "    for (x, y, w, h) in faces:\n",
    "       \n",
    "\n",
    "        # Draw rectangle around the face\n",
    "        cv2.rectangle(frame, (x, y), (x+w, y+h), (0, 255, 0), 2)\n",
    "\n",
    "        # Estimate the distance to the face\n",
    "        face_width_pixels = w\n",
    "        distance = (KNOWN_FACE_WIDTH * FOCAL_LENGTH) / face_width_pixels\n",
    "\n",
    "        # Display the distance on the frame\n",
    "        distance_text = f\"Distance: {distance:.2f} cm\"\n",
    "        cv2.putText(frame, distance_text, (x, y-10), cv2.FONT_HERSHEY_SIMPLEX, 0.7, (0, 255, 0), 2)\n",
    "\n",
    "    # Display the resulting frame\n",
    "    cv2.imshow('Face Detection with Background Blur', frame)\n",
    "\n",
    "    # Break the loop when 'q' is pressed\n",
    "    if cv2.waitKey(1) & 0xFF == ord('q'):\n",
    "        break\n",
    "\n",
    "# Release the video capture and close all windows\n",
    "video_capture.release()\n",
    "cv2.destroyAllWindows()\n"
   ]
  },
  {
   "cell_type": "code",
   "execution_count": 38,
   "id": "354ace01",
   "metadata": {},
   "outputs": [],
   "source": [
    "video_capture.release()"
   ]
  },
  {
   "cell_type": "code",
   "execution_count": null,
   "id": "a36792a8",
   "metadata": {},
   "outputs": [],
   "source": []
  },
  {
   "cell_type": "code",
   "execution_count": null,
   "id": "50fef691",
   "metadata": {},
   "outputs": [],
   "source": []
  }
 ],
 "metadata": {
  "kernelspec": {
   "display_name": "Python 3 (ipykernel)",
   "language": "python",
   "name": "python3"
  },
  "language_info": {
   "codemirror_mode": {
    "name": "ipython",
    "version": 3
   },
   "file_extension": ".py",
   "mimetype": "text/x-python",
   "name": "python",
   "nbconvert_exporter": "python",
   "pygments_lexer": "ipython3",
   "version": "3.10.11"
  }
 },
 "nbformat": 4,
 "nbformat_minor": 5
}
